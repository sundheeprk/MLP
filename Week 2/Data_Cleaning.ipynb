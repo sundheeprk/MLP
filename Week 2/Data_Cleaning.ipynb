{
  "nbformat": 4,
  "nbformat_minor": 0,
  "metadata": {
    "colab": {
      "provenance": []
    },
    "kernelspec": {
      "name": "python3",
      "display_name": "Python 3"
    },
    "language_info": {
      "name": "python"
    }
  },
  "cells": [
    {
      "cell_type": "code",
      "execution_count": 1,
      "metadata": {
        "id": "MOTNpVCXLyHi"
      },
      "outputs": [],
      "source": [
        "from IPython.display import display, Math, Latex\n",
        "\n",
        "import pandas as pd\n",
        "import numpy as np\n",
        "import matplotlib.pyplot as plt\n",
        "import seaborn as sns\n",
        "sns.set_style(style='whitegrid')"
      ]
    },
    {
      "cell_type": "markdown",
      "source": [
        "# Data Cleaning\n",
        "## 1. Data Imputation\n",
        "\n",
        "\n",
        "*   Many machine learning algorithms need full feature matrix and they may not work in presence of missing data.\n",
        "*   Data imputation identifies missing values in each feature of the dataset and replaces them with an appropriate values based on a fixed strategy such as :\n",
        "\n",
        "\n",
        "\n",
        "> -   mean or median or mode of that feature.\n",
        "-   use specified constant value.\n",
        "\n",
        "Sklearn library provides sklearn.impute.SimpleImputer class for this purpose.\n",
        "\n",
        "\n",
        "\n"
      ],
      "metadata": {
        "id": "qzvCiGTSyMyq"
      }
    },
    {
      "cell_type": "code",
      "source": [
        "from sklearn.impute import SimpleImputer"
      ],
      "metadata": {
        "id": "z9lqatWuyMPS"
      },
      "execution_count": 2,
      "outputs": []
    },
    {
      "cell_type": "markdown",
      "source": [
        "Some of its important parameters:\n",
        "\n",
        "\n",
        "*   missing_values: could be int,str,np.nan or None. Default is np.nan.\n",
        "\n",
        "*   strategy: string, default is 'mean'. One the following strategies can be used:\n",
        "\n",
        "\n",
        "> *   mean- missing values are replaced using the mean along each column.\n",
        "*   median-missing values are replaced using the median along each column.\n",
        "*   most_frequent-missing values are replaced using the most_frequent along each column.\n",
        "*   constant - missing values are replaced with value specified in fill_value argument\n",
        "*   add_indicator - a boolean parameter that when set to True returns missing value indicators in indicator_ member value.\n",
        "\n",
        "### NOTE:\n",
        "\n",
        "\n",
        "*   mean and median strategies can only be used with numeric data.\n",
        "*   most_frequent and constant strategies can be used with strings or numberic data.\n",
        "\n",
        "\n",
        "\n",
        "\n",
        "\n",
        "\n",
        "\n",
        "\n",
        "\n",
        "\n",
        "\n",
        "\n",
        "\n",
        "\n",
        "\n"
      ],
      "metadata": {
        "id": "cnLRtqzqgfbN"
      }
    },
    {
      "cell_type": "markdown",
      "source": [
        "#### Data imputation on real world dataset\n",
        "\n",
        "Let's perform data imputation on real world dataset. We will be using https://archive.ics.uci.edu/ml/machine-learning-databases/heart-disease/cleveland.data for this purpose. We will load this dataset from csv file."
      ],
      "metadata": {
        "id": "RrZEKcClhGOM"
      }
    },
    {
      "cell_type": "code",
      "source": [
        "cols = ['age', 'sex', 'cp', 'trestbps', 'chol', 'fbs', 'restecg',\n",
        "        'thalach', 'exang', 'oldpeak', 'slope', 'ca', 'thal', 'num']\n",
        "\n",
        "heart_data = pd.read_csv('https://archive.ics.uci.edu/ml/machine-learning-databases/heart-disease/processed.cleveland.data',\n",
        "                         header=None, names=cols)\n",
        "\n",
        "heart_data.head()"
      ],
      "metadata": {
        "colab": {
          "base_uri": "https://localhost:8080/",
          "height": 206
        },
        "id": "U_HkSmBzhMUu",
        "outputId": "9950e103-dbbf-416c-c526-1495800ced31"
      },
      "execution_count": 3,
      "outputs": [
        {
          "output_type": "execute_result",
          "data": {
            "text/plain": [
              "    age  sex   cp  trestbps   chol  fbs  restecg  thalach  exang  oldpeak  \\\n",
              "0  63.0  1.0  1.0     145.0  233.0  1.0      2.0    150.0    0.0      2.3   \n",
              "1  67.0  1.0  4.0     160.0  286.0  0.0      2.0    108.0    1.0      1.5   \n",
              "2  67.0  1.0  4.0     120.0  229.0  0.0      2.0    129.0    1.0      2.6   \n",
              "3  37.0  1.0  3.0     130.0  250.0  0.0      0.0    187.0    0.0      3.5   \n",
              "4  41.0  0.0  2.0     130.0  204.0  0.0      2.0    172.0    0.0      1.4   \n",
              "\n",
              "   slope   ca thal  num  \n",
              "0    3.0  0.0  6.0    0  \n",
              "1    2.0  3.0  3.0    2  \n",
              "2    2.0  2.0  7.0    1  \n",
              "3    3.0  0.0  3.0    0  \n",
              "4    1.0  0.0  3.0    0  "
            ],
            "text/html": [
              "\n",
              "  <div id=\"df-b7b6f3b5-2e9a-4410-946a-22e358bd13c6\">\n",
              "    <div class=\"colab-df-container\">\n",
              "      <div>\n",
              "<style scoped>\n",
              "    .dataframe tbody tr th:only-of-type {\n",
              "        vertical-align: middle;\n",
              "    }\n",
              "\n",
              "    .dataframe tbody tr th {\n",
              "        vertical-align: top;\n",
              "    }\n",
              "\n",
              "    .dataframe thead th {\n",
              "        text-align: right;\n",
              "    }\n",
              "</style>\n",
              "<table border=\"1\" class=\"dataframe\">\n",
              "  <thead>\n",
              "    <tr style=\"text-align: right;\">\n",
              "      <th></th>\n",
              "      <th>age</th>\n",
              "      <th>sex</th>\n",
              "      <th>cp</th>\n",
              "      <th>trestbps</th>\n",
              "      <th>chol</th>\n",
              "      <th>fbs</th>\n",
              "      <th>restecg</th>\n",
              "      <th>thalach</th>\n",
              "      <th>exang</th>\n",
              "      <th>oldpeak</th>\n",
              "      <th>slope</th>\n",
              "      <th>ca</th>\n",
              "      <th>thal</th>\n",
              "      <th>num</th>\n",
              "    </tr>\n",
              "  </thead>\n",
              "  <tbody>\n",
              "    <tr>\n",
              "      <th>0</th>\n",
              "      <td>63.0</td>\n",
              "      <td>1.0</td>\n",
              "      <td>1.0</td>\n",
              "      <td>145.0</td>\n",
              "      <td>233.0</td>\n",
              "      <td>1.0</td>\n",
              "      <td>2.0</td>\n",
              "      <td>150.0</td>\n",
              "      <td>0.0</td>\n",
              "      <td>2.3</td>\n",
              "      <td>3.0</td>\n",
              "      <td>0.0</td>\n",
              "      <td>6.0</td>\n",
              "      <td>0</td>\n",
              "    </tr>\n",
              "    <tr>\n",
              "      <th>1</th>\n",
              "      <td>67.0</td>\n",
              "      <td>1.0</td>\n",
              "      <td>4.0</td>\n",
              "      <td>160.0</td>\n",
              "      <td>286.0</td>\n",
              "      <td>0.0</td>\n",
              "      <td>2.0</td>\n",
              "      <td>108.0</td>\n",
              "      <td>1.0</td>\n",
              "      <td>1.5</td>\n",
              "      <td>2.0</td>\n",
              "      <td>3.0</td>\n",
              "      <td>3.0</td>\n",
              "      <td>2</td>\n",
              "    </tr>\n",
              "    <tr>\n",
              "      <th>2</th>\n",
              "      <td>67.0</td>\n",
              "      <td>1.0</td>\n",
              "      <td>4.0</td>\n",
              "      <td>120.0</td>\n",
              "      <td>229.0</td>\n",
              "      <td>0.0</td>\n",
              "      <td>2.0</td>\n",
              "      <td>129.0</td>\n",
              "      <td>1.0</td>\n",
              "      <td>2.6</td>\n",
              "      <td>2.0</td>\n",
              "      <td>2.0</td>\n",
              "      <td>7.0</td>\n",
              "      <td>1</td>\n",
              "    </tr>\n",
              "    <tr>\n",
              "      <th>3</th>\n",
              "      <td>37.0</td>\n",
              "      <td>1.0</td>\n",
              "      <td>3.0</td>\n",
              "      <td>130.0</td>\n",
              "      <td>250.0</td>\n",
              "      <td>0.0</td>\n",
              "      <td>0.0</td>\n",
              "      <td>187.0</td>\n",
              "      <td>0.0</td>\n",
              "      <td>3.5</td>\n",
              "      <td>3.0</td>\n",
              "      <td>0.0</td>\n",
              "      <td>3.0</td>\n",
              "      <td>0</td>\n",
              "    </tr>\n",
              "    <tr>\n",
              "      <th>4</th>\n",
              "      <td>41.0</td>\n",
              "      <td>0.0</td>\n",
              "      <td>2.0</td>\n",
              "      <td>130.0</td>\n",
              "      <td>204.0</td>\n",
              "      <td>0.0</td>\n",
              "      <td>2.0</td>\n",
              "      <td>172.0</td>\n",
              "      <td>0.0</td>\n",
              "      <td>1.4</td>\n",
              "      <td>1.0</td>\n",
              "      <td>0.0</td>\n",
              "      <td>3.0</td>\n",
              "      <td>0</td>\n",
              "    </tr>\n",
              "  </tbody>\n",
              "</table>\n",
              "</div>\n",
              "      <button class=\"colab-df-convert\" onclick=\"convertToInteractive('df-b7b6f3b5-2e9a-4410-946a-22e358bd13c6')\"\n",
              "              title=\"Convert this dataframe to an interactive table.\"\n",
              "              style=\"display:none;\">\n",
              "        \n",
              "  <svg xmlns=\"http://www.w3.org/2000/svg\" height=\"24px\"viewBox=\"0 0 24 24\"\n",
              "       width=\"24px\">\n",
              "    <path d=\"M0 0h24v24H0V0z\" fill=\"none\"/>\n",
              "    <path d=\"M18.56 5.44l.94 2.06.94-2.06 2.06-.94-2.06-.94-.94-2.06-.94 2.06-2.06.94zm-11 1L8.5 8.5l.94-2.06 2.06-.94-2.06-.94L8.5 2.5l-.94 2.06-2.06.94zm10 10l.94 2.06.94-2.06 2.06-.94-2.06-.94-.94-2.06-.94 2.06-2.06.94z\"/><path d=\"M17.41 7.96l-1.37-1.37c-.4-.4-.92-.59-1.43-.59-.52 0-1.04.2-1.43.59L10.3 9.45l-7.72 7.72c-.78.78-.78 2.05 0 2.83L4 21.41c.39.39.9.59 1.41.59.51 0 1.02-.2 1.41-.59l7.78-7.78 2.81-2.81c.8-.78.8-2.07 0-2.86zM5.41 20L4 18.59l7.72-7.72 1.47 1.35L5.41 20z\"/>\n",
              "  </svg>\n",
              "      </button>\n",
              "      \n",
              "  <style>\n",
              "    .colab-df-container {\n",
              "      display:flex;\n",
              "      flex-wrap:wrap;\n",
              "      gap: 12px;\n",
              "    }\n",
              "\n",
              "    .colab-df-convert {\n",
              "      background-color: #E8F0FE;\n",
              "      border: none;\n",
              "      border-radius: 50%;\n",
              "      cursor: pointer;\n",
              "      display: none;\n",
              "      fill: #1967D2;\n",
              "      height: 32px;\n",
              "      padding: 0 0 0 0;\n",
              "      width: 32px;\n",
              "    }\n",
              "\n",
              "    .colab-df-convert:hover {\n",
              "      background-color: #E2EBFA;\n",
              "      box-shadow: 0px 1px 2px rgba(60, 64, 67, 0.3), 0px 1px 3px 1px rgba(60, 64, 67, 0.15);\n",
              "      fill: #174EA6;\n",
              "    }\n",
              "\n",
              "    [theme=dark] .colab-df-convert {\n",
              "      background-color: #3B4455;\n",
              "      fill: #D2E3FC;\n",
              "    }\n",
              "\n",
              "    [theme=dark] .colab-df-convert:hover {\n",
              "      background-color: #434B5C;\n",
              "      box-shadow: 0px 1px 3px 1px rgba(0, 0, 0, 0.15);\n",
              "      filter: drop-shadow(0px 1px 2px rgba(0, 0, 0, 0.3));\n",
              "      fill: #FFFFFF;\n",
              "    }\n",
              "  </style>\n",
              "\n",
              "      <script>\n",
              "        const buttonEl =\n",
              "          document.querySelector('#df-b7b6f3b5-2e9a-4410-946a-22e358bd13c6 button.colab-df-convert');\n",
              "        buttonEl.style.display =\n",
              "          google.colab.kernel.accessAllowed ? 'block' : 'none';\n",
              "\n",
              "        async function convertToInteractive(key) {\n",
              "          const element = document.querySelector('#df-b7b6f3b5-2e9a-4410-946a-22e358bd13c6');\n",
              "          const dataTable =\n",
              "            await google.colab.kernel.invokeFunction('convertToInteractive',\n",
              "                                                     [key], {});\n",
              "          if (!dataTable) return;\n",
              "\n",
              "          const docLinkHtml = 'Like what you see? Visit the ' +\n",
              "            '<a target=\"_blank\" href=https://colab.research.google.com/notebooks/data_table.ipynb>data table notebook</a>'\n",
              "            + ' to learn more about interactive tables.';\n",
              "          element.innerHTML = '';\n",
              "          dataTable['output_type'] = 'display_data';\n",
              "          await google.colab.output.renderOutput(dataTable, element);\n",
              "          const docLink = document.createElement('div');\n",
              "          docLink.innerHTML = docLinkHtml;\n",
              "          element.appendChild(docLink);\n",
              "        }\n",
              "      </script>\n",
              "    </div>\n",
              "  </div>\n",
              "  "
            ]
          },
          "metadata": {},
          "execution_count": 3
        }
      ]
    },
    {
      "cell_type": "markdown",
      "source": [
        "The dataset has the following features:\n",
        "\n",
        "\n",
        "*   Age (in years)\n",
        "\n",
        "*   Sex (1=male; 0 = female)\n",
        "\n",
        "*   cp - chest pain type\n",
        "*   trestbps - resting blood pressure (anything above 130-140 is typically cause for concern) \n",
        "\n",
        "\n",
        "*   fbs - fasting blood sugar ( > 120 mg/dl) (1 = true, 0 = false)\n",
        "\n",
        "\n",
        "*   restecg - resting electrocardiographic results\n",
        "\n",
        "\n",
        "> *   normal = 0\n",
        "*   1 = having ST-T wave abnormality\n",
        "*   2 = showing probable or definite left ventricular hypertropy by Este's criteria\n",
        "\n",
        "\n",
        "\n",
        "*   thalch - maximum heart rate achieved\n",
        "*   exang - exercise induced angina\n",
        "\n",
        "\n",
        "> *   1 = yes\n",
        "*   0 = no\n",
        "\n",
        "\n",
        "\n",
        "*   Oldpeak depression induced by exercise relative to rest\n",
        "*   slope - slope of the peak exercise ST segment\n",
        "\n",
        "\n",
        "> *   1 = unsloping;\n",
        "*   2 = flat value\n",
        "*   3 = downsloping\n",
        "\n",
        "\n",
        "- ca - number of major vessels (0-3) colored by fluroscopy\n",
        "\n",
        "- thal - (3 = normal; 6 = fixed defect; 7 = reversable defect)\n",
        "\n",
        "- num - diagnosis of heart disease (angiographic disease status)\n",
        "> - 0 < 50% diameter narrowing\n",
        " -1: .50% diameter narrowing\n",
        "\n",
        "\n",
        "\n",
        "\n",
        "\n",
        "\n",
        "\n",
        "\n",
        "\n",
        "\n",
        "\n",
        "\n",
        "\n",
        "\n",
        "\n",
        "\n",
        "\n",
        "\n",
        "\n",
        "\n",
        "\n"
      ],
      "metadata": {
        "id": "dZj23Lw0iDOz"
      }
    },
    {
      "cell_type": "markdown",
      "source": [
        "### STEP 1: Check if dataset has missing values\n",
        "* This can be checked via dataset description or by check number of nan or np.null in the dataframe. However such check can be performed only for numerical features.\n",
        "* For non-numberical features, we can list their unique values and check if there are values like ?."
      ],
      "metadata": {
        "id": "iSDUJJQIkL1H"
      }
    },
    {
      "cell_type": "code",
      "source": [
        "heart_data.info()"
      ],
      "metadata": {
        "colab": {
          "base_uri": "https://localhost:8080/"
        },
        "id": "uPshApF-kX0d",
        "outputId": "51661c20-53ae-4e45-f110-0f990eb83258"
      },
      "execution_count": 4,
      "outputs": [
        {
          "output_type": "stream",
          "name": "stdout",
          "text": [
            "<class 'pandas.core.frame.DataFrame'>\n",
            "RangeIndex: 303 entries, 0 to 302\n",
            "Data columns (total 14 columns):\n",
            " #   Column    Non-Null Count  Dtype  \n",
            "---  ------    --------------  -----  \n",
            " 0   age       303 non-null    float64\n",
            " 1   sex       303 non-null    float64\n",
            " 2   cp        303 non-null    float64\n",
            " 3   trestbps  303 non-null    float64\n",
            " 4   chol      303 non-null    float64\n",
            " 5   fbs       303 non-null    float64\n",
            " 6   restecg   303 non-null    float64\n",
            " 7   thalach   303 non-null    float64\n",
            " 8   exang     303 non-null    float64\n",
            " 9   oldpeak   303 non-null    float64\n",
            " 10  slope     303 non-null    float64\n",
            " 11  ca        303 non-null    object \n",
            " 12  thal      303 non-null    object \n",
            " 13  num       303 non-null    int64  \n",
            "dtypes: float64(11), int64(1), object(2)\n",
            "memory usage: 33.3+ KB\n"
          ]
        }
      ]
    },
    {
      "cell_type": "markdown",
      "source": [
        "Let's check if there are any missing values in numerical columns-here we have checked it for all columns in the dataframe."
      ],
      "metadata": {
        "id": "7nDmHpVdkcjj"
      }
    },
    {
      "cell_type": "code",
      "source": [
        "heart_data.isnull().sum()"
      ],
      "metadata": {
        "colab": {
          "base_uri": "https://localhost:8080/"
        },
        "id": "gZY5NWR7kepP",
        "outputId": "9704770e-4e77-4f1c-85e2-2c63a25dd65f"
      },
      "execution_count": 5,
      "outputs": [
        {
          "output_type": "execute_result",
          "data": {
            "text/plain": [
              "age         0\n",
              "sex         0\n",
              "cp          0\n",
              "trestbps    0\n",
              "chol        0\n",
              "fbs         0\n",
              "restecg     0\n",
              "thalach     0\n",
              "exang       0\n",
              "oldpeak     0\n",
              "slope       0\n",
              "ca          0\n",
              "thal        0\n",
              "num         0\n",
              "dtype: int64"
            ]
          },
          "metadata": {},
          "execution_count": 5
        }
      ]
    },
    {
      "cell_type": "markdown",
      "source": [
        "There are two non-numerical features : ca and thal so list their unique values:"
      ],
      "metadata": {
        "id": "ELstpbsJkkvR"
      }
    },
    {
      "cell_type": "code",
      "source": [
        "print('Unique values in ca:', heart_data.ca.unique())\n",
        "print('Unique values in thal:', heart_data.thal.unique())"
      ],
      "metadata": {
        "colab": {
          "base_uri": "https://localhost:8080/"
        },
        "id": "0IaZdHTWkm6M",
        "outputId": "a9716c81-6a0a-4d1f-85bf-4e73b971d1cc"
      },
      "execution_count": 6,
      "outputs": [
        {
          "output_type": "stream",
          "name": "stdout",
          "text": [
            "Unique values in ca: ['0.0' '3.0' '2.0' '1.0' '?']\n",
            "Unique values in thal: ['6.0' '3.0' '7.0' '?']\n"
          ]
        }
      ]
    },
    {
      "cell_type": "markdown",
      "source": [
        "Both of them contain ?, which is a missing value. Let's count the number of missing values."
      ],
      "metadata": {
        "id": "zD9RCjjLkyjn"
      }
    },
    {
      "cell_type": "code",
      "source": [
        "print('Number of missing values in ca:',\n",
        "      heart_data.loc[heart_data.ca == '?', 'ca'].count())\n",
        "\n",
        "print('Number of missing values in thal:',\n",
        "      heart_data.loc[heart_data.thal == '?', 'thal'].count())"
      ],
      "metadata": {
        "colab": {
          "base_uri": "https://localhost:8080/"
        },
        "id": "1yN2sj9MkzgM",
        "outputId": "21cb7799-ed63-4b53-bc55-67c986e88dd7"
      },
      "execution_count": 7,
      "outputs": [
        {
          "output_type": "stream",
          "name": "stdout",
          "text": [
            "Number of missing values in ca: 4\n",
            "Number of missing values in thal: 2\n"
          ]
        }
      ]
    },
    {
      "cell_type": "markdown",
      "source": [
        "#### STEP 2: Replace ? with NaN"
      ],
      "metadata": {
        "id": "oJe9HtVxlJ2x"
      }
    },
    {
      "cell_type": "code",
      "source": [
        "heart_data.replace('?', np.nan, inplace=True)"
      ],
      "metadata": {
        "id": "JbjOs-gwlOht"
      },
      "execution_count": 8,
      "outputs": []
    },
    {
      "cell_type": "markdown",
      "source": [
        "#### STEP 3: Fill the missing values with sklearn missing value imputation utilities\n",
        "\n",
        "a. add_indicator = False: Default choice that only imputes missing values"
      ],
      "metadata": {
        "id": "ucvJ1UDYlUuD"
      }
    },
    {
      "cell_type": "code",
      "source": [
        "imputer = SimpleImputer(missing_values=np.nan, strategy='mean')\n",
        "\n",
        "imputer = imputer.fit(heart_data)\n",
        "heart_data_imputed = imputer.transform(heart_data)\n",
        "\n",
        "print(heart_data.shape)\n",
        "print(heart_data_imputed.shape)"
      ],
      "metadata": {
        "colab": {
          "base_uri": "https://localhost:8080/"
        },
        "id": "IgNJt8volii0",
        "outputId": "3ea7bb98-74c8-42d7-ff07-e0b1fa05b3f5"
      },
      "execution_count": 9,
      "outputs": [
        {
          "output_type": "stream",
          "name": "stdout",
          "text": [
            "(303, 14)\n",
            "(303, 14)\n"
          ]
        }
      ]
    },
    {
      "cell_type": "markdown",
      "source": [
        "b. add_indicator = True: Adds additional column for each column containing missing values.\n",
        "\n",
        "In our case, this adds two columns one for ca and other for thal. It indicates if the sample has a missing value.\n",
        "\n",
        "Now the number of extra column added will be 1 per missing columns that contains the boolean value i.e True/False to indicate that earlier some values were missing. It is just like a pointer for missing value update."
      ],
      "metadata": {
        "id": "2ja8sdCcl1Hb"
      }
    },
    {
      "cell_type": "code",
      "source": [
        "imputer = SimpleImputer(missing_values = np.nan,\n",
        "                        strategy='mean', add_indicator=True)\n",
        "\n",
        "imputer = imputer.fit(heart_data)\n",
        "heart_data_imputed_indicator = imputer.transform(heart_data)\n",
        "\n",
        "print(heart_data.shape)\n",
        "print(heart_data_imputed_indicator.shape)"
      ],
      "metadata": {
        "colab": {
          "base_uri": "https://localhost:8080/"
        },
        "id": "jJdn3eD-l0io",
        "outputId": "c7e4c8ee-7ce7-4656-88fa-285289510cbb"
      },
      "execution_count": 10,
      "outputs": [
        {
          "output_type": "stream",
          "name": "stdout",
          "text": [
            "(303, 14)\n",
            "(303, 16)\n"
          ]
        }
      ]
    },
    {
      "cell_type": "markdown",
      "source": [
        "## 2. Feature Scaling\n",
        "\n",
        "Feature Scaling transform feature values such that all the features are on the same scale.\n",
        "\n",
        "When we use feature matrix with all features on the same scale, it provides us certain advantages as listed below:\n",
        "\n",
        "\n",
        "\n",
        "*   Enables Faster Convergence in iterative optimization algorithms like gradien descent and its variants.\n",
        "*   The performance of ML algorithms such as SVM, K-NN and K-means etc. that compute euclidean distance among input samples gets impacted if the features are not scaled.\n",
        "\n",
        "Tree based Ml algorithms are not affected by feature-scaling. In other words, feature scaling is not required for tree based ML algorithms.\n",
        "\n",
        "Feature scaling can be performed with the following methods:\n",
        "\n",
        "\n",
        "*   Standardization\n",
        "\n",
        "*   Normalization\n",
        "*   MaxAbsScaler"
      ],
      "metadata": {
        "id": "SIRnAdp-EQ8T"
      }
    },
    {
      "cell_type": "markdown",
      "source": [
        "#### Feature Scaling on real world dataset\n",
        "Let's demonstrate feature scaling on a real world dataset. For this purpose we will be using https://archive.ics.uci.edu/ml/datasets/Abalone .\n",
        "\n",
        "We will use different scaling utilities in the sklearn library."
      ],
      "metadata": {
        "id": "nIXzzcFcEte5"
      }
    },
    {
      "cell_type": "code",
      "source": [
        "cols = ['sex', 'Length', 'Diameter', 'Height', 'Whole weight', 'Shucked weight', 'Viscera weight', 'Shell weight', 'Rings']\n",
        "\n",
        "abalone_data = pd.read_csv('https://archive.ics.uci.edu/ml/machine-learning-databases/abalone/abalone.data', header=None, names=cols)"
      ],
      "metadata": {
        "id": "KR8wBOAZE7WW"
      },
      "execution_count": 39,
      "outputs": []
    },
    {
      "cell_type": "markdown",
      "source": [
        "Abalone dataset has the following features:\n",
        "\n",
        "\n",
        "*   Sex-nominal (M, F and I(infant))\n",
        "\n",
        "*   Length (mm - Longest shell measurement)\n",
        "\n",
        "*   Diameter (mm - perpendicular to length)\n",
        "\n",
        "*   Height (mm - with meat in shell)\n",
        "\n",
        "*   Whole weight (grams - whole abalone)\n",
        "\n",
        "*   Shucked weight (grams - whole abalone)\n",
        "*   Viscera weight (grams - gut weight(after bleeding))\n",
        "\n",
        "\n",
        "*   Shell weight (grams - after being dried)\n",
        "*   Rings (target - age in years)\n"
      ],
      "metadata": {
        "id": "2s8WFIJJFmwZ"
      }
    },
    {
      "cell_type": "markdown",
      "source": [
        "### STEP 1: Examine the dataset"
      ],
      "metadata": {
        "id": "9em26bWtGVA4"
      }
    },
    {
      "cell_type": "code",
      "source": [
        "abalone_data.info()"
      ],
      "metadata": {
        "colab": {
          "base_uri": "https://localhost:8080/"
        },
        "id": "GXVYs3wOGYpx",
        "outputId": "39a06d84-0d5e-4cad-85aa-b1f6d5010cd8"
      },
      "execution_count": 40,
      "outputs": [
        {
          "output_type": "stream",
          "name": "stdout",
          "text": [
            "<class 'pandas.core.frame.DataFrame'>\n",
            "RangeIndex: 4177 entries, 0 to 4176\n",
            "Data columns (total 9 columns):\n",
            " #   Column          Non-Null Count  Dtype  \n",
            "---  ------          --------------  -----  \n",
            " 0   sex             4177 non-null   object \n",
            " 1   Length          4177 non-null   float64\n",
            " 2   Diameter        4177 non-null   float64\n",
            " 3   Height          4177 non-null   float64\n",
            " 4   Whole weight    4177 non-null   float64\n",
            " 5   Shucked weight  4177 non-null   float64\n",
            " 6   Viscera weight  4177 non-null   float64\n",
            " 7   Shell weight    4177 non-null   float64\n",
            " 8   Rings           4177 non-null   int64  \n",
            "dtypes: float64(7), int64(1), object(1)\n",
            "memory usage: 293.8+ KB\n"
          ]
        }
      ]
    },
    {
      "cell_type": "markdown",
      "source": [
        "### STEP 1 [Optional] : Convert non-numerical attributes to numerical ones.\n",
        "In this dataset, sex is a non-numeric column in this dataset. Let's examine it and see if we can convert it to numeric representation."
      ],
      "metadata": {
        "id": "D3aeJdLzGdUa"
      }
    },
    {
      "cell_type": "code",
      "source": [
        "abalone_data.sex.unique()"
      ],
      "metadata": {
        "colab": {
          "base_uri": "https://localhost:8080/"
        },
        "id": "0VxDzskzGoxB",
        "outputId": "7256dde6-5365-410a-a3cd-2fa17e527028"
      },
      "execution_count": 41,
      "outputs": [
        {
          "output_type": "execute_result",
          "data": {
            "text/plain": [
              "array(['M', 'F', 'I'], dtype=object)"
            ]
          },
          "metadata": {},
          "execution_count": 41
        }
      ]
    },
    {
      "cell_type": "code",
      "source": [
        "# Assign numerical values to sex.\n",
        "abalone_data = abalone_data.replace({'sex': {'M': 1, 'F': 2, 'I': 3}})\n",
        "abalone_data.info()"
      ],
      "metadata": {
        "colab": {
          "base_uri": "https://localhost:8080/"
        },
        "id": "xa-kSBSTG6kT",
        "outputId": "4602eca8-14a7-4a10-819f-a98ce9c7f8d6"
      },
      "execution_count": 42,
      "outputs": [
        {
          "output_type": "stream",
          "name": "stdout",
          "text": [
            "<class 'pandas.core.frame.DataFrame'>\n",
            "RangeIndex: 4177 entries, 0 to 4176\n",
            "Data columns (total 9 columns):\n",
            " #   Column          Non-Null Count  Dtype  \n",
            "---  ------          --------------  -----  \n",
            " 0   sex             4177 non-null   int64  \n",
            " 1   Length          4177 non-null   float64\n",
            " 2   Diameter        4177 non-null   float64\n",
            " 3   Height          4177 non-null   float64\n",
            " 4   Whole weight    4177 non-null   float64\n",
            " 5   Shucked weight  4177 non-null   float64\n",
            " 6   Viscera weight  4177 non-null   float64\n",
            " 7   Shell weight    4177 non-null   float64\n",
            " 8   Rings           4177 non-null   int64  \n",
            "dtypes: float64(7), int64(2)\n",
            "memory usage: 293.8 KB\n"
          ]
        }
      ]
    },
    {
      "cell_type": "markdown",
      "source": [
        "### STEP 2: Separate labels from features"
      ],
      "metadata": {
        "id": "B-MToGLhHTE4"
      }
    },
    {
      "cell_type": "code",
      "source": [
        "y = abalone_data.pop('Rings')\n",
        "\n",
        "print('The DataFrame object after deleting the column : \\n')\n",
        "abalone_data.info()"
      ],
      "metadata": {
        "colab": {
          "base_uri": "https://localhost:8080/"
        },
        "id": "PcdVDm79HW1U",
        "outputId": "9fb49c0e-df8d-40b8-9ab0-c42723dfa857"
      },
      "execution_count": 43,
      "outputs": [
        {
          "output_type": "stream",
          "name": "stdout",
          "text": [
            "The DataFrame object after deleting the column : \n",
            "\n",
            "<class 'pandas.core.frame.DataFrame'>\n",
            "RangeIndex: 4177 entries, 0 to 4176\n",
            "Data columns (total 8 columns):\n",
            " #   Column          Non-Null Count  Dtype  \n",
            "---  ------          --------------  -----  \n",
            " 0   sex             4177 non-null   int64  \n",
            " 1   Length          4177 non-null   float64\n",
            " 2   Diameter        4177 non-null   float64\n",
            " 3   Height          4177 non-null   float64\n",
            " 4   Whole weight    4177 non-null   float64\n",
            " 5   Shucked weight  4177 non-null   float64\n",
            " 6   Viscera weight  4177 non-null   float64\n",
            " 7   Shell weight    4177 non-null   float64\n",
            "dtypes: float64(7), int64(1)\n",
            "memory usage: 261.2 KB\n"
          ]
        }
      ]
    },
    {
      "cell_type": "markdown",
      "source": [
        "### STEP 3 : Examine feature scales\n",
        "\n",
        "#### 3A. Statistical method\n",
        "\n",
        "Check the scales of different feature with describe method of dataframe"
      ],
      "metadata": {
        "id": "hyjsiAGFHkP6"
      }
    },
    {
      "cell_type": "code",
      "source": [
        "abalone_data.describe().T"
      ],
      "metadata": {
        "colab": {
          "base_uri": "https://localhost:8080/",
          "height": 269
        },
        "id": "oJEapm5WHweA",
        "outputId": "b48e2706-a3ef-4b0a-9b29-ced5ceba2da8"
      },
      "execution_count": 33,
      "outputs": [
        {
          "output_type": "execute_result",
          "data": {
            "text/plain": [
              "                 count      mean       std     min     25%     50%    75%  \\\n",
              "Length          4177.0  0.523992  0.120093  0.0750  0.4500  0.5450  0.615   \n",
              "Diameter        4177.0  0.407881  0.099240  0.0550  0.3500  0.4250  0.480   \n",
              "Height          4177.0  0.139516  0.041827  0.0000  0.1150  0.1400  0.165   \n",
              "Whole weight    4177.0  0.828742  0.490389  0.0020  0.4415  0.7995  1.153   \n",
              "Shucked weight  4177.0  0.359367  0.221963  0.0010  0.1860  0.3360  0.502   \n",
              "Viscera weight  4177.0  0.180594  0.109614  0.0005  0.0935  0.1710  0.253   \n",
              "Shell weight    4177.0  0.238831  0.139203  0.0015  0.1300  0.2340  0.329   \n",
              "\n",
              "                   max  \n",
              "Length          0.8150  \n",
              "Diameter        0.6500  \n",
              "Height          1.1300  \n",
              "Whole weight    2.8255  \n",
              "Shucked weight  1.4880  \n",
              "Viscera weight  0.7600  \n",
              "Shell weight    1.0050  "
            ],
            "text/html": [
              "\n",
              "  <div id=\"df-8ae5a97d-c1ef-4074-8d73-d02247a4c15e\">\n",
              "    <div class=\"colab-df-container\">\n",
              "      <div>\n",
              "<style scoped>\n",
              "    .dataframe tbody tr th:only-of-type {\n",
              "        vertical-align: middle;\n",
              "    }\n",
              "\n",
              "    .dataframe tbody tr th {\n",
              "        vertical-align: top;\n",
              "    }\n",
              "\n",
              "    .dataframe thead th {\n",
              "        text-align: right;\n",
              "    }\n",
              "</style>\n",
              "<table border=\"1\" class=\"dataframe\">\n",
              "  <thead>\n",
              "    <tr style=\"text-align: right;\">\n",
              "      <th></th>\n",
              "      <th>count</th>\n",
              "      <th>mean</th>\n",
              "      <th>std</th>\n",
              "      <th>min</th>\n",
              "      <th>25%</th>\n",
              "      <th>50%</th>\n",
              "      <th>75%</th>\n",
              "      <th>max</th>\n",
              "    </tr>\n",
              "  </thead>\n",
              "  <tbody>\n",
              "    <tr>\n",
              "      <th>Length</th>\n",
              "      <td>4177.0</td>\n",
              "      <td>0.523992</td>\n",
              "      <td>0.120093</td>\n",
              "      <td>0.0750</td>\n",
              "      <td>0.4500</td>\n",
              "      <td>0.5450</td>\n",
              "      <td>0.615</td>\n",
              "      <td>0.8150</td>\n",
              "    </tr>\n",
              "    <tr>\n",
              "      <th>Diameter</th>\n",
              "      <td>4177.0</td>\n",
              "      <td>0.407881</td>\n",
              "      <td>0.099240</td>\n",
              "      <td>0.0550</td>\n",
              "      <td>0.3500</td>\n",
              "      <td>0.4250</td>\n",
              "      <td>0.480</td>\n",
              "      <td>0.6500</td>\n",
              "    </tr>\n",
              "    <tr>\n",
              "      <th>Height</th>\n",
              "      <td>4177.0</td>\n",
              "      <td>0.139516</td>\n",
              "      <td>0.041827</td>\n",
              "      <td>0.0000</td>\n",
              "      <td>0.1150</td>\n",
              "      <td>0.1400</td>\n",
              "      <td>0.165</td>\n",
              "      <td>1.1300</td>\n",
              "    </tr>\n",
              "    <tr>\n",
              "      <th>Whole weight</th>\n",
              "      <td>4177.0</td>\n",
              "      <td>0.828742</td>\n",
              "      <td>0.490389</td>\n",
              "      <td>0.0020</td>\n",
              "      <td>0.4415</td>\n",
              "      <td>0.7995</td>\n",
              "      <td>1.153</td>\n",
              "      <td>2.8255</td>\n",
              "    </tr>\n",
              "    <tr>\n",
              "      <th>Shucked weight</th>\n",
              "      <td>4177.0</td>\n",
              "      <td>0.359367</td>\n",
              "      <td>0.221963</td>\n",
              "      <td>0.0010</td>\n",
              "      <td>0.1860</td>\n",
              "      <td>0.3360</td>\n",
              "      <td>0.502</td>\n",
              "      <td>1.4880</td>\n",
              "    </tr>\n",
              "    <tr>\n",
              "      <th>Viscera weight</th>\n",
              "      <td>4177.0</td>\n",
              "      <td>0.180594</td>\n",
              "      <td>0.109614</td>\n",
              "      <td>0.0005</td>\n",
              "      <td>0.0935</td>\n",
              "      <td>0.1710</td>\n",
              "      <td>0.253</td>\n",
              "      <td>0.7600</td>\n",
              "    </tr>\n",
              "    <tr>\n",
              "      <th>Shell weight</th>\n",
              "      <td>4177.0</td>\n",
              "      <td>0.238831</td>\n",
              "      <td>0.139203</td>\n",
              "      <td>0.0015</td>\n",
              "      <td>0.1300</td>\n",
              "      <td>0.2340</td>\n",
              "      <td>0.329</td>\n",
              "      <td>1.0050</td>\n",
              "    </tr>\n",
              "  </tbody>\n",
              "</table>\n",
              "</div>\n",
              "      <button class=\"colab-df-convert\" onclick=\"convertToInteractive('df-8ae5a97d-c1ef-4074-8d73-d02247a4c15e')\"\n",
              "              title=\"Convert this dataframe to an interactive table.\"\n",
              "              style=\"display:none;\">\n",
              "        \n",
              "  <svg xmlns=\"http://www.w3.org/2000/svg\" height=\"24px\"viewBox=\"0 0 24 24\"\n",
              "       width=\"24px\">\n",
              "    <path d=\"M0 0h24v24H0V0z\" fill=\"none\"/>\n",
              "    <path d=\"M18.56 5.44l.94 2.06.94-2.06 2.06-.94-2.06-.94-.94-2.06-.94 2.06-2.06.94zm-11 1L8.5 8.5l.94-2.06 2.06-.94-2.06-.94L8.5 2.5l-.94 2.06-2.06.94zm10 10l.94 2.06.94-2.06 2.06-.94-2.06-.94-.94-2.06-.94 2.06-2.06.94z\"/><path d=\"M17.41 7.96l-1.37-1.37c-.4-.4-.92-.59-1.43-.59-.52 0-1.04.2-1.43.59L10.3 9.45l-7.72 7.72c-.78.78-.78 2.05 0 2.83L4 21.41c.39.39.9.59 1.41.59.51 0 1.02-.2 1.41-.59l7.78-7.78 2.81-2.81c.8-.78.8-2.07 0-2.86zM5.41 20L4 18.59l7.72-7.72 1.47 1.35L5.41 20z\"/>\n",
              "  </svg>\n",
              "      </button>\n",
              "      \n",
              "  <style>\n",
              "    .colab-df-container {\n",
              "      display:flex;\n",
              "      flex-wrap:wrap;\n",
              "      gap: 12px;\n",
              "    }\n",
              "\n",
              "    .colab-df-convert {\n",
              "      background-color: #E8F0FE;\n",
              "      border: none;\n",
              "      border-radius: 50%;\n",
              "      cursor: pointer;\n",
              "      display: none;\n",
              "      fill: #1967D2;\n",
              "      height: 32px;\n",
              "      padding: 0 0 0 0;\n",
              "      width: 32px;\n",
              "    }\n",
              "\n",
              "    .colab-df-convert:hover {\n",
              "      background-color: #E2EBFA;\n",
              "      box-shadow: 0px 1px 2px rgba(60, 64, 67, 0.3), 0px 1px 3px 1px rgba(60, 64, 67, 0.15);\n",
              "      fill: #174EA6;\n",
              "    }\n",
              "\n",
              "    [theme=dark] .colab-df-convert {\n",
              "      background-color: #3B4455;\n",
              "      fill: #D2E3FC;\n",
              "    }\n",
              "\n",
              "    [theme=dark] .colab-df-convert:hover {\n",
              "      background-color: #434B5C;\n",
              "      box-shadow: 0px 1px 3px 1px rgba(0, 0, 0, 0.15);\n",
              "      filter: drop-shadow(0px 1px 2px rgba(0, 0, 0, 0.3));\n",
              "      fill: #FFFFFF;\n",
              "    }\n",
              "  </style>\n",
              "\n",
              "      <script>\n",
              "        const buttonEl =\n",
              "          document.querySelector('#df-8ae5a97d-c1ef-4074-8d73-d02247a4c15e button.colab-df-convert');\n",
              "        buttonEl.style.display =\n",
              "          google.colab.kernel.accessAllowed ? 'block' : 'none';\n",
              "\n",
              "        async function convertToInteractive(key) {\n",
              "          const element = document.querySelector('#df-8ae5a97d-c1ef-4074-8d73-d02247a4c15e');\n",
              "          const dataTable =\n",
              "            await google.colab.kernel.invokeFunction('convertToInteractive',\n",
              "                                                     [key], {});\n",
              "          if (!dataTable) return;\n",
              "\n",
              "          const docLinkHtml = 'Like what you see? Visit the ' +\n",
              "            '<a target=\"_blank\" href=https://colab.research.google.com/notebooks/data_table.ipynb>data table notebook</a>'\n",
              "            + ' to learn more about interactive tables.';\n",
              "          element.innerHTML = '';\n",
              "          dataTable['output_type'] = 'display_data';\n",
              "          await google.colab.output.renderOutput(dataTable, element);\n",
              "          const docLink = document.createElement('div');\n",
              "          docLink.innerHTML = docLinkHtml;\n",
              "          element.appendChild(docLink);\n",
              "        }\n",
              "      </script>\n",
              "    </div>\n",
              "  </div>\n",
              "  "
            ]
          },
          "metadata": {},
          "execution_count": 33
        }
      ]
    },
    {
      "cell_type": "markdown",
      "source": [
        "### Note:\n",
        "\n",
        "*   There are 4177 examples or rows in this dataset.\n",
        "*   The mean and standard deviation of features are quite different from one another.\n",
        "\n",
        "### 3B. Visualization of feature distributions\n",
        "This method includes:\n",
        "\n",
        "\n",
        "*   Histogram\n",
        "\n",
        "*   Kernel density estimation (KDE) plot\n",
        "*   Boxplot\n",
        "\n",
        "\n",
        "*   Violin plot\n",
        "\n",
        "### 1. Feature Histogram\n",
        "We will have separate and combined histogram plots to check if the feature are indeed on different scales.\n",
        "\n"
      ],
      "metadata": {
        "id": "UT3jIjPsH1xB"
      }
    },
    {
      "cell_type": "code",
      "source": [
        "plt.hist(np.array(abalone_data['Length']))\n",
        "plt.show()"
      ],
      "metadata": {
        "colab": {
          "base_uri": "https://localhost:8080/",
          "height": 265
        },
        "id": "WfMXPWKqIYCg",
        "outputId": "76462e18-9b83-4ab1-9359-9435bed45460"
      },
      "execution_count": 34,
      "outputs": [
        {
          "output_type": "display_data",
          "data": {
            "text/plain": [
              "<Figure size 432x288 with 1 Axes>"
            ],
            "image/png": "[encoded data removed]"
          },
          "metadata": {}
        }
      ]
    },
    {
      "cell_type": "code",
      "source": [
        "plt.hist(np.array(abalone_data['Shucked weight']))\n",
        "plt.show()"
      ],
      "metadata": {
        "colab": {
          "base_uri": "https://localhost:8080/",
          "height": 265
        },
        "id": "G2LtQ0rXI27B",
        "outputId": "fcc97f6a-6881-4f1f-a178-823a25a7aba6"
      },
      "execution_count": 35,
      "outputs": [
        {
          "output_type": "display_data",
          "data": {
            "text/plain": [
              "<Figure size 432x288 with 1 Axes>"
            ],
            "image/png": "[encoded data removed]"
          },
          "metadata": {}
        }
      ]
    },
    {
      "cell_type": "code",
      "source": [
        "for i in abalone_data.columns:\n",
        "  plt.hist(np.array(abalone_data[i]))"
      ],
      "metadata": {
        "colab": {
          "base_uri": "https://localhost:8080/",
          "height": 265
        },
        "id": "xPEcyahIJGd0",
        "outputId": "f87f02e8-1a48-4a47-c8b7-53f0a17541ac"
      },
      "execution_count": 19,
      "outputs": [
        {
          "output_type": "display_data",
          "data": {
            "text/plain": [
              "<Figure size 432x288 with 1 Axes>"
            ],
            "image/png": "[encoded data removed]"
          },
          "metadata": {}
        }
      ]
    },
    {
      "cell_type": "markdown",
      "source": [
        "Observe that the features have different distributions and scales"
      ],
      "metadata": {
        "id": "hUqa8wlBJND9"
      }
    },
    {
      "cell_type": "markdown",
      "source": [
        "### 2. KDE Plot\n",
        "\n",
        "\n",
        "*   Alternatively, we can generate Kernel Density Estimate plot using Gaussian Kernels.\n",
        "*   In statistics, kernel density function (KDE) is a non-parametric way to estimate the probability density function (PDF) of a random variable.\n",
        "This function uses Gaussian Kernels and includes automatic bandwidth determination\n",
        "\n"
      ],
      "metadata": {
        "id": "r0dbfkN6KmFF"
      }
    },
    {
      "cell_type": "code",
      "source": [
        "ax = abalone_data.plot.kde()"
      ],
      "metadata": {
        "colab": {
          "base_uri": "https://localhost:8080/",
          "height": 265
        },
        "id": "b2gRfkgaK3cM",
        "outputId": "78ed5bb0-4bd0-4696-df82-65f0464cf5d1"
      },
      "execution_count": 20,
      "outputs": [
        {
          "output_type": "display_data",
          "data": {
            "text/plain": [
              "<Figure size 432x288 with 1 Axes>"
            ],
            "image/png": "[encoded data removed]"
          },
          "metadata": {}
        }
      ]
    },
    {
      "cell_type": "markdown",
      "source": [
        "#### 3. Boxplot\n",
        "\n",
        "\n",
        "\n",
        "*   A box plot (or box-and-whisker plot) shows the distribution of quantitative in a way that facilitates comparisions between variables or across levels of a categorical variables.\n",
        "*   The box shows the quartiles of the dataset while the whiskers extend to show the rest of the distribution, except for points that are determined to be 'outliers' using a method that is a function of the inter-quartile range.\n",
        "\n"
      ],
      "metadata": {
        "id": "zxq7hoHwLA1k"
      }
    },
    {
      "cell_type": "code",
      "source": [
        "ax = sns.boxplot(data=abalone_data, orient='h', palette='Set2')"
      ],
      "metadata": {
        "colab": {
          "base_uri": "https://localhost:8080/",
          "height": 265
        },
        "id": "B7TN9adfK-pj",
        "outputId": "2082dab4-0afb-4317-80df-a15075778d1d"
      },
      "execution_count": 21,
      "outputs": [
        {
          "output_type": "display_data",
          "data": {
            "text/plain": [
              "<Figure size 432x288 with 1 Axes>"
            ],
            "image/png": "[encoded data removed]"
          },
          "metadata": {}
        }
      ]
    },
    {
      "cell_type": "markdown",
      "source": [
        "### STEP 4: Scaling the features\n",
        "\n",
        "#### 4A. Normlisation\n",
        "The features are normalized such that their range lies between $[0, 1]$ or $[-1, 1]$ . There are two ways to achieve this :\n",
        "\n",
        "\n",
        "\n",
        "*   MaxAbsScaler transform features in range $[-1, 1]$\n",
        "*   MinMaxScaler transforms features in range $[0, 1]$\n",
        "\n",
        "#### a. MaxAbsScaler\n",
        "\n",
        "It transforms the original features vector  into new feature vector  so that all values fall within range $[-1,1]$ and the range of each feature is the same.\n",
        "\n",
        "\\begin{align}\n",
        "  {X}^{'} = \\frac{X}{MaXAbsoluteValue} \n",
        "    \\end{align}\n",
        "\n",
        "where:\n",
        "\\begin{align}\n",
        "  {MaxAbsoluteValue} = max(x.max, |x.min|)\n",
        "    \\end{align}\n"
      ],
      "metadata": {
        "id": "rdbeFlKkLSu3"
      }
    },
    {
      "cell_type": "code",
      "source": [
        "x = np.array([4, 2, 5, -2, -100]).reshape(-1, 1)\n",
        "print(x)"
      ],
      "metadata": {
        "colab": {
          "base_uri": "https://localhost:8080/"
        },
        "id": "ujxx2Uh2SDlK",
        "outputId": "ae12f1c1-22e9-4c2a-ce4a-f5d5037c100e"
      },
      "execution_count": 22,
      "outputs": [
        {
          "output_type": "stream",
          "name": "stdout",
          "text": [
            "[[   4]\n",
            " [   2]\n",
            " [   5]\n",
            " [  -2]\n",
            " [-100]]\n"
          ]
        }
      ]
    },
    {
      "cell_type": "code",
      "source": [
        "from sklearn.preprocessing import MaxAbsScaler\n",
        "max_abs_scaler = MaxAbsScaler()\n",
        "\n",
        "x_mas  = max_abs_scaler.fit_transform(x)\n",
        "print(x_mas)"
      ],
      "metadata": {
        "colab": {
          "base_uri": "https://localhost:8080/"
        },
        "id": "rL0V_qwMSMOC",
        "outputId": "2cca87e1-3974-421b-9901-d4b5d96d6f70"
      },
      "execution_count": 23,
      "outputs": [
        {
          "output_type": "stream",
          "name": "stdout",
          "text": [
            "[[ 0.04]\n",
            " [ 0.02]\n",
            " [ 0.05]\n",
            " [-0.02]\n",
            " [-1.  ]]\n"
          ]
        }
      ]
    },
    {
      "cell_type": "markdown",
      "source": [
        "###b. MinMaxScaler\n",
        "Normalization is a procedure in which the feature values are scaled such that they range between 0 and 1. This technique is also called Min-Max Scaling.\n",
        "It is performed with the following formula: \n",
        "\n",
        "\\begin{align}\n",
        "  {X}_{new} = \\frac{X_{old} - X_{min}}{X_{max} - X_{min}} \n",
        "    \\end{align}\n",
        "\n",
        "where \n",
        "\n",
        "\n",
        "\n",
        "*   $X_{old}$ is the old value of a data point, which is rescaled to $X_{new}$\n",
        "\n",
        "*   $X_{min}$ is the minimum value of feature $X$\n",
        "*   $X_{max}$ is maximum value of feature $X$\n",
        "\n",
        "Normalization can be achieved by MinMaxScaler from sklearn library"
      ],
      "metadata": {
        "id": "zpvtAzLlSbz4"
      }
    },
    {
      "cell_type": "code",
      "source": [
        "from sklearn.preprocessing import MinMaxScaler\n",
        "min_max_scaler = MinMaxScaler()\n",
        "\n",
        "X_normalized = min_max_scaler.fit_transform(abalone_data)\n",
        "X_normalized[:5]"
      ],
      "metadata": {
        "colab": {
          "base_uri": "https://localhost:8080/"
        },
        "id": "Nk_O5d0kTefO",
        "outputId": "ae2a0d2f-ade1-42c8-e9cd-1f9ecd129e28"
      },
      "execution_count": 44,
      "outputs": [
        {
          "output_type": "execute_result",
          "data": {
            "text/plain": [
              "array([[0.        , 0.51351351, 0.5210084 , 0.0840708 , 0.18133522,\n",
              "        0.15030262, 0.1323239 , 0.14798206],\n",
              "       [0.        , 0.37162162, 0.35294118, 0.07964602, 0.07915707,\n",
              "        0.06624075, 0.06319947, 0.06826109],\n",
              "       [0.5       , 0.61486486, 0.61344538, 0.11946903, 0.23906499,\n",
              "        0.17182246, 0.18564845, 0.2077728 ],\n",
              "       [0.        , 0.49324324, 0.5210084 , 0.11061947, 0.18204356,\n",
              "        0.14425017, 0.14944042, 0.15296462],\n",
              "       [1.        , 0.34459459, 0.33613445, 0.07079646, 0.07189658,\n",
              "        0.0595158 , 0.05134957, 0.0533134 ]])"
            ]
          },
          "metadata": {},
          "execution_count": 44
        }
      ]
    },
    {
      "cell_type": "code",
      "source": [
        "X_normalized.mean(axis=0)"
      ],
      "metadata": {
        "colab": {
          "base_uri": "https://localhost:8080/"
        },
        "id": "R3w0g2OaVtK_",
        "outputId": "dfdd6881-1992-460d-b197-d627769acc42"
      },
      "execution_count": 45,
      "outputs": [
        {
          "output_type": "execute_result",
          "data": {
            "text/plain": [
              "array([0.47773522, 0.60674608, 0.59307774, 0.12346584, 0.29280756,\n",
              "       0.24100033, 0.23712127, 0.2365031 ])"
            ]
          },
          "metadata": {},
          "execution_count": 45
        }
      ]
    },
    {
      "cell_type": "code",
      "source": [
        "X_normalized.std(axis=0)"
      ],
      "metadata": {
        "colab": {
          "base_uri": "https://localhost:8080/"
        },
        "id": "EVtXoLflVxKD",
        "outputId": "fdd7972a-5b6e-4c12-9a4a-9a37deb88c74"
      },
      "execution_count": 46,
      "outputs": [
        {
          "output_type": "execute_result",
          "data": {
            "text/plain": [
              "array([0.4138578 , 0.16226829, 0.16676972, 0.03701066, 0.17366046,\n",
              "       0.14925109, 0.14430695, 0.13870055])"
            ]
          },
          "metadata": {},
          "execution_count": 46
        }
      ]
    },
    {
      "cell_type": "code",
      "source": [
        "cols = ['sex', 'Length', 'Diameter', 'Height', 'Whole weight',\n",
        "        'Shucked weight', 'Viscera weight', 'Shell weight']\n",
        "\n",
        "X_normalized = pd.DataFrame(X_normalized, columns=cols)      "
      ],
      "metadata": {
        "id": "Z2Zwz6puV1Y5"
      },
      "execution_count": 47,
      "outputs": []
    },
    {
      "cell_type": "code",
      "source": [
        "sns.histplot(data=X_normalized)"
      ],
      "metadata": {
        "colab": {
          "base_uri": "https://localhost:8080/",
          "height": 286
        },
        "id": "M77bOsa9WHo6",
        "outputId": "ae3d8004-f2ac-4deb-ed66-acd070a411d3"
      },
      "execution_count": 48,
      "outputs": [
        {
          "output_type": "execute_result",
          "data": {
            "text/plain": [
              "<matplotlib.axes._subplots.AxesSubplot at 0x7f9e77f1cd00>"
            ]
          },
          "metadata": {},
          "execution_count": 48
        },
        {
          "output_type": "display_data",
          "data": {
            "text/plain": [
              "<Figure size 432x288 with 1 Axes>"
            ],
            "image/png": "[encoded data removed]"
          },
          "metadata": {}
        }
      ]
    },
    {
      "cell_type": "code",
      "source": [
        "sns.kdeplot(data=X_normalized)"
      ],
      "metadata": {
        "colab": {
          "base_uri": "https://localhost:8080/",
          "height": 282
        },
        "id": "ptKsBMGLWPdE",
        "outputId": "1acd190f-8eb1-4d9f-cb14-72159288d1e1"
      },
      "execution_count": 49,
      "outputs": [
        {
          "output_type": "execute_result",
          "data": {
            "text/plain": [
              "<matplotlib.axes._subplots.AxesSubplot at 0x7f9e72d4cf10>"
            ]
          },
          "metadata": {},
          "execution_count": 49
        },
        {
          "output_type": "display_data",
          "data": {
            "text/plain": [
              "<Figure size 432x288 with 1 Axes>"
            ],
            "image/png": "[encoded data removed]"
          },
          "metadata": {}
        }
      ]
    },
    {
      "cell_type": "markdown",
      "source": [
        "### 4B. Standardization\n",
        "\n",
        "\n",
        "*   Standardization is another feature scaling technique that results into (close to ) zero mean and unit standard deviation of a feature's values.\n",
        "*   Formula for standardization:\n",
        "\\begin{align}\n",
        "  {X}^{new} = \\frac{X_{old} - \\mu}{σ} \n",
        "    \\end{align}\n",
        "\n",
        "where, $\\mu$ and $σ$ are respectively the mean and standard deviation of the feature values\n",
        "\n",
        "\n",
        "*   Standardization can be achieved by StandardScaler from sklearn library.\n",
        "\n",
        "\n",
        "\n",
        "\n"
      ],
      "metadata": {
        "id": "F-t884SDWWNR"
      }
    },
    {
      "cell_type": "code",
      "source": [
        "from sklearn.preprocessing import StandardScaler\n",
        "ss = StandardScaler()\n",
        "\n",
        "X_standardized = ss.fit_transform(abalone_data)\n",
        "X_standardized[:5]"
      ],
      "metadata": {
        "colab": {
          "base_uri": "https://localhost:8080/"
        },
        "id": "bmyeKGkPXSFE",
        "outputId": "78ba46d9-f067-4329-ace8-8763120cfc2f"
      },
      "execution_count": 50,
      "outputs": [
        {
          "output_type": "execute_result",
          "data": {
            "text/plain": [
              "array([[-1.15434629, -0.57455813, -0.43214879, -1.06442415, -0.64189823,\n",
              "        -0.60768536, -0.72621157, -0.63821689],\n",
              "       [-1.15434629, -1.44898585, -1.439929  , -1.18397831, -1.23027711,\n",
              "        -1.17090984, -1.20522124, -1.21298732],\n",
              "       [ 0.05379815,  0.05003309,  0.12213032, -0.10799087, -0.30946926,\n",
              "        -0.4634999 , -0.35668983, -0.20713907],\n",
              "       [-1.15434629, -0.69947638, -0.43214879, -0.34709919, -0.63781934,\n",
              "        -0.64823753, -0.60759966, -0.60229374],\n",
              "       [ 1.26194258, -1.61554351, -1.54070702, -1.42308663, -1.27208566,\n",
              "        -1.2159678 , -1.28733718, -1.32075677]])"
            ]
          },
          "metadata": {},
          "execution_count": 50
        }
      ]
    },
    {
      "cell_type": "code",
      "source": [
        "X_standardized.mean(axis=0)"
      ],
      "metadata": {
        "colab": {
          "base_uri": "https://localhost:8080/"
        },
        "id": "EuUb3mtAXdgC",
        "outputId": "e7f61c17-3799-4e30-83b0-079908f070f6"
      },
      "execution_count": 51,
      "outputs": [
        {
          "output_type": "execute_result",
          "data": {
            "text/plain": [
              "array([-1.19075871e-17, -5.83471770e-16, -3.02792930e-16,  3.91249292e-16,\n",
              "        9.18585294e-17, -1.02065033e-17,  2.70472337e-16,  2.97689679e-16])"
            ]
          },
          "metadata": {},
          "execution_count": 51
        }
      ]
    },
    {
      "cell_type": "code",
      "source": [
        "X_standardized.std(axis=0)"
      ],
      "metadata": {
        "colab": {
          "base_uri": "https://localhost:8080/"
        },
        "id": "d0LorilEXhD4",
        "outputId": "f690762a-5853-4995-faa3-7024ed82b51a"
      },
      "execution_count": 52,
      "outputs": [
        {
          "output_type": "execute_result",
          "data": {
            "text/plain": [
              "array([1., 1., 1., 1., 1., 1., 1., 1.])"
            ]
          },
          "metadata": {},
          "execution_count": 52
        }
      ]
    },
    {
      "cell_type": "code",
      "source": [
        "# sns.histplot(data=X_standardized)\n",
        "\n",
        "in_cols = cols[:len(cols)-1]\n",
        "plt.figure(figsize=(12, 8))\n",
        "\n",
        "data = pd.DataFrame(X_standardized, columns=cols)\n",
        "for colname in abalone_data:\n",
        "  plt.hist(data[colname].values, alpha=0.4)\n",
        "\n",
        "plt.legend(in_cols, fontsize=18, loc='upper right', frameon=True)\n",
        "plt.title('Distribution of features across samples after standardization')\n",
        "plt.xlabel('Range', fontsize=16)\n",
        "plt.ylabel('Frequency', fontsize=16)\n",
        "plt.show()"
      ],
      "metadata": {
        "colab": {
          "base_uri": "https://localhost:8080/",
          "height": 518
        },
        "id": "ye0ugxeBXlLa",
        "outputId": "a2841d0b-63c2-4c02-fd58-2274d80b1cea"
      },
      "execution_count": 53,
      "outputs": [
        {
          "output_type": "display_data",
          "data": {
            "text/plain": [
              "<Figure size 864x576 with 1 Axes>"
            ],
            "image/png": "[encoded data removed]"
          },
          "metadata": {}
        }
      ]
    },
    {
      "cell_type": "code",
      "source": [
        "data.plot.kde()\n",
        "plt.show()"
      ],
      "metadata": {
        "colab": {
          "base_uri": "https://localhost:8080/",
          "height": 266
        },
        "id": "KPwA9ofNYQA7",
        "outputId": "98c26a1a-e6c0-4f8c-bdcd-6a738256b8f9"
      },
      "execution_count": 54,
      "outputs": [
        {
          "output_type": "display_data",
          "data": {
            "text/plain": [
              "<Figure size 432x288 with 1 Axes>"
            ],
            "image/png": "[encoded data removed]"
          },
          "metadata": {}
        }
      ]
    },
    {
      "cell_type": "code",
      "source": [
        "ax = sns.boxplot(data=data, orient='h', palette='Set2')"
      ],
      "metadata": {
        "colab": {
          "base_uri": "https://localhost:8080/",
          "height": 265
        },
        "id": "M2Cuj2fxYXn5",
        "outputId": "7c134ccb-9062-4ba8-a3cd-c626a0f53c36"
      },
      "execution_count": 56,
      "outputs": [
        {
          "output_type": "display_data",
          "data": {
            "text/plain": [
              "<Figure size 432x288 with 1 Axes>"
            ],
            "image/png": "[encoded data removed]"
          },
          "metadata": {}
        }
      ]
    },
    {
      "cell_type": "code",
      "source": [
        "ax = sns.violinplot(data=data, orient='h', palette='Set2')"
      ],
      "metadata": {
        "colab": {
          "base_uri": "https://localhost:8080/",
          "height": 265
        },
        "id": "ZQ_ox3qSYh5_",
        "outputId": "ebf0ce6e-fedd-4b2d-9011-57629e3aee91"
      },
      "execution_count": 57,
      "outputs": [
        {
          "output_type": "display_data",
          "data": {
            "text/plain": [
              "<Figure size 432x288 with 1 Axes>"
            ],
            "image/png": "[encoded data removed]"
          },
          "metadata": {}
        }
      ]
    }
  ]
}